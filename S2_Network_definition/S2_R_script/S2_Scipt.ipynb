{
 "cells": [
  {
   "cell_type": "code",
   "execution_count": 23,
   "metadata": {},
   "outputs": [],
   "source": [
    "x = 4\n",
    "y = 5"
   ]
  },
  {
   "cell_type": "code",
   "execution_count": 24,
   "metadata": {},
   "outputs": [
    {
     "name": "stdout",
     "output_type": "stream",
     "text": [
      "9\n"
     ]
    }
   ],
   "source": [
    "z = x + y\n",
    "print(z)"
   ]
  },
  {
   "cell_type": "code",
   "execution_count": 25,
   "metadata": {},
   "outputs": [
    {
     "name": "stdout",
     "output_type": "stream",
     "text": [
      "20\n"
     ]
    }
   ],
   "source": [
    "w = x * y\n",
    "print(w)"
   ]
  },
  {
   "cell_type": "code",
   "execution_count": 26,
   "metadata": {},
   "outputs": [
    {
     "name": "stdout",
     "output_type": "stream",
     "text": [
      "-1\n"
     ]
    }
   ],
   "source": [
    "k = x - y\n",
    "print(k)"
   ]
  },
  {
   "cell_type": "code",
   "execution_count": 27,
   "metadata": {},
   "outputs": [
    {
     "data": {
      "text/plain": [
       "True"
      ]
     },
     "execution_count": 27,
     "metadata": {},
     "output_type": "execute_result"
    }
   ],
   "source": [
    "x < 3\n",
    "x > 3"
   ]
  },
  {
   "cell_type": "code",
   "execution_count": 28,
   "metadata": {},
   "outputs": [
    {
     "name": "stdout",
     "output_type": "stream",
     "text": [
      "hello world\n"
     ]
    }
   ],
   "source": [
    "t = \"hello world\"\n",
    "print(t)"
   ]
  },
  {
   "attachments": {},
   "cell_type": "markdown",
   "metadata": {},
   "source": [
    "Vectors now (like coordinates)"
   ]
  },
  {
   "cell_type": "code",
   "execution_count": 29,
   "metadata": {},
   "outputs": [],
   "source": [
    "import numpy as np"
   ]
  },
  {
   "cell_type": "code",
   "execution_count": 30,
   "metadata": {},
   "outputs": [
    {
     "name": "stdout",
     "output_type": "stream",
     "text": [
      "[-1.   2.6  3.5  4.1  5. ]\n"
     ]
    }
   ],
   "source": [
    "v = np.array((-1.0, 2.6, 3.5, 4.1, 5.0))\n",
    "print(v)"
   ]
  },
  {
   "cell_type": "code",
   "execution_count": 31,
   "metadata": {},
   "outputs": [
    {
     "name": "stdout",
     "output_type": "stream",
     "text": [
      "['hello' 'world']\n"
     ]
    }
   ],
   "source": [
    "v1 = np.array((\"hello\", \"world\"))\n",
    "print(v1)"
   ]
  },
  {
   "cell_type": "code",
   "execution_count": 32,
   "metadata": {},
   "outputs": [
    {
     "name": "stdout",
     "output_type": "stream",
     "text": [
      "['TRUE' 'FALSE' 'TRUE' 'FALSE' 'FALSE' 'TRUE' 'TRUE']\n"
     ]
    }
   ],
   "source": [
    "v2 = np.array((\"TRUE\", \"FALSE\", \"TRUE\", \"FALSE\", \"FALSE\", \"TRUE\", \"TRUE\"))\n",
    "print(v2)"
   ]
  },
  {
   "cell_type": "code",
   "execution_count": 33,
   "metadata": {},
   "outputs": [
    {
     "name": "stdout",
     "output_type": "stream",
     "text": [
      "['T' 'F' 'T']\n"
     ]
    }
   ],
   "source": [
    "v3 = np.array((\"T\", \"F\", \"T\"))\n",
    "print(v3)"
   ]
  },
  {
   "cell_type": "code",
   "execution_count": 34,
   "metadata": {},
   "outputs": [
    {
     "name": "stdout",
     "output_type": "stream",
     "text": [
      "[-2.   5.2  7.   8.2 10. ]\n",
      "[-1.          0.38461538  0.28571429  0.24390244  0.2       ]\n",
      "14.2\n",
      "2.84\n",
      "4.2984\n",
      "5.0\n",
      "-1.0\n",
      "5\n"
     ]
    }
   ],
   "source": [
    "print(v * 2)\n",
    "print(1 / v)\n",
    "print(sum(v))\n",
    "print(np.mean(v))\n",
    "print(np.var(v))\n",
    "print(np.max(v))\n",
    "print(np.min(v))\n",
    "print(v.size)"
   ]
  },
  {
   "cell_type": "code",
   "execution_count": 35,
   "metadata": {},
   "outputs": [
    {
     "name": "stdout",
     "output_type": "stream",
     "text": [
      "[-1.0, 2.6, 3.5, 4.1, 5.0]\n",
      "[5.0, 4.1, 3.5, 2.6, -1.0]\n",
      "[-1.0, 2.6, 3.5, 4.1, 5.0]\n"
     ]
    }
   ],
   "source": [
    "print(sorted(v))\n",
    "print(sorted(v, reverse = True))\n",
    "print(sorted(v, reverse = False))"
   ]
  },
  {
   "cell_type": "code",
   "execution_count": 36,
   "metadata": {},
   "outputs": [
    {
     "name": "stdout",
     "output_type": "stream",
     "text": [
      "1\n",
      "[2 4 5]\n"
     ]
    }
   ],
   "source": [
    "y1 = 1\n",
    "x1 = np.array((2, 4, 5))\n",
    "print(y1)\n",
    "print(x1)"
   ]
  },
  {
   "cell_type": "code",
   "execution_count": 37,
   "metadata": {},
   "outputs": [
    {
     "name": "stdout",
     "output_type": "stream",
     "text": [
      "3\n"
     ]
    }
   ],
   "source": [
    "print(x1.size)"
   ]
  },
  {
   "attachments": {},
   "cell_type": "markdown",
   "metadata": {},
   "source": [
    "EXERCISE 1\n",
    "Write a script that:\n",
    "1. creates a vector with some of your friend's names;\n",
    "2. calculates the length of this vector;\n",
    "3. returns the first two friends from this vector;\n",
    "4. returns the 2nd and 3rd friend names;\n",
    "5. sorts your friends by names;\n",
    "6. reverses direction of the above sort."
   ]
  },
  {
   "cell_type": "code",
   "execution_count": null,
   "metadata": {},
   "outputs": [],
   "source": []
  },
  {
   "attachments": {},
   "cell_type": "markdown",
   "metadata": {},
   "source": [
    "Matrices"
   ]
  },
  {
   "cell_type": "code",
   "execution_count": 38,
   "metadata": {},
   "outputs": [
    {
     "name": "stdout",
     "output_type": "stream",
     "text": [
      "[[2 4 3]\n",
      " [1 5 7]\n",
      " [1 2 4]]\n"
     ]
    }
   ],
   "source": [
    "A = np.matrix('2, 4, 3; 1, 5, 7; 1, 2, 4')\n",
    "print(A)"
   ]
  },
  {
   "cell_type": "code",
   "execution_count": 39,
   "metadata": {},
   "outputs": [
    {
     "name": "stdout",
     "output_type": "stream",
     "text": [
      "[[2 4 3]]\n"
     ]
    }
   ],
   "source": [
    "print(A[0])"
   ]
  },
  {
   "cell_type": "code",
   "execution_count": 40,
   "metadata": {},
   "outputs": [
    {
     "name": "stdout",
     "output_type": "stream",
     "text": [
      "[[2]\n",
      " [1]\n",
      " [1]]\n"
     ]
    }
   ],
   "source": [
    "print(A[:,0])"
   ]
  },
  {
   "cell_type": "code",
   "execution_count": 41,
   "metadata": {},
   "outputs": [
    {
     "name": "stdout",
     "output_type": "stream",
     "text": [
      "[[2 1 1]\n",
      " [4 5 2]\n",
      " [3 7 4]]\n",
      "[[2 5 4]]\n"
     ]
    }
   ],
   "source": [
    "print(A.T)\n",
    "print(A.diagonal())"
   ]
  },
  {
   "cell_type": "code",
   "execution_count": 42,
   "metadata": {},
   "outputs": [
    {
     "name": "stdout",
     "output_type": "stream",
     "text": [
      "[[1 2 3]\n",
      " [4 5 6]\n",
      " [7 8 9]]\n"
     ]
    }
   ],
   "source": [
    "B = np.arange(1, 10).reshape(3, 3)\n",
    "print(B)"
   ]
  },
  {
   "cell_type": "code",
   "execution_count": 43,
   "metadata": {},
   "outputs": [
    {
     "name": "stdout",
     "output_type": "stream",
     "text": [
      "[[ 3  6  6]\n",
      " [ 5 10 13]\n",
      " [ 8 10 13]]\n",
      "[[39 48 57]\n",
      " [70 83 96]\n",
      " [37 44 51]]\n",
      "[[39 48 57]\n",
      " [70 83 96]\n",
      " [37 44 51]]\n"
     ]
    }
   ],
   "source": [
    "print(A + B)\n",
    "print(A * B)\n",
    "print(np.matmul(A, B))"
   ]
  },
  {
   "cell_type": "code",
   "execution_count": 49,
   "metadata": {},
   "outputs": [],
   "source": [
    "x3 = np.array((1, 2, 3))\n",
    "y3 = np.array((3, 4, 5))"
   ]
  },
  {
   "cell_type": "code",
   "execution_count": 52,
   "metadata": {},
   "outputs": [
    {
     "name": "stdout",
     "output_type": "stream",
     "text": [
      "[[1 3]\n",
      " [2 4]\n",
      " [3 5]]\n",
      "[1 2 3 3 4 5]\n",
      "[[1 2 3]\n",
      " [3 4 5]]\n"
     ]
    }
   ],
   "source": [
    "print(np.column_stack((x3, y3)))\n",
    "print(np.hstack((x3, y3)))\n",
    "print(np.vstack((x3, y3)))"
   ]
  },
  {
   "attachments": {},
   "cell_type": "markdown",
   "metadata": {},
   "source": [
    "EXERCISE 2  --- --- --- --- --- --- --- --- --- --- --- ---\n",
    "Write a script that\n",
    "- creates a matrix 5x5 from 5 numerical vectors;\n",
    "- returns the diagonal of the matrix;\n",
    "- transposes the matrix;\n",
    "- multiplies the new matrix with the original matrix;\n",
    "- extracts the last row of the resulting matrix;\n",
    "- extracts the third column of the resulting matrix."
   ]
  },
  {
   "cell_type": "code",
   "execution_count": null,
   "metadata": {},
   "outputs": [],
   "source": []
  },
  {
   "attachments": {},
   "cell_type": "markdown",
   "metadata": {},
   "source": [
    "5. Lists and Dictionaries"
   ]
  },
  {
   "cell_type": "code",
   "execution_count": 62,
   "metadata": {},
   "outputs": [
    {
     "name": "stdout",
     "output_type": "stream",
     "text": [
      "{'name': 'Pippo', 'values': (20, 125, 40), 'date': datetime.date(2023, 3, 29)}\n"
     ]
    }
   ],
   "source": [
    "from datetime import date\n",
    "today = date.today()\n",
    "d = {\"name\":\"Pippo\", \"values\":(20, 125, 40), \"date\":today}\n",
    "print(d)\n",
    "#THis is actually a dictionary"
   ]
  },
  {
   "cell_type": "code",
   "execution_count": 66,
   "metadata": {},
   "outputs": [],
   "source": [
    "d[\"date\"]\n",
    "myDate = d[\"date\"]"
   ]
  },
  {
   "cell_type": "code",
   "execution_count": 72,
   "metadata": {},
   "outputs": [
    {
     "name": "stdout",
     "output_type": "stream",
     "text": [
      "2023-03-29\n",
      "dict_values(['Pippo', (20, 125, 40), datetime.date(2023, 3, 29)])\n"
     ]
    }
   ],
   "source": [
    "print(d[\"date\"])\n",
    "print(d.values())"
   ]
  },
  {
   "attachments": {},
   "cell_type": "markdown",
   "metadata": {},
   "source": [
    "6. Factors"
   ]
  },
  {
   "cell_type": "code",
   "execution_count": 76,
   "metadata": {},
   "outputs": [
    {
     "name": "stdout",
     "output_type": "stream",
     "text": [
      "['John', 'Sara', 'Anthony', 'Frank', 'Sara', 'Stephanie', 'Anthony', 'Anthony']\n",
      "Categories (5, object): ['Anthony', 'Frank', 'John', 'Sara', 'Stephanie']\n"
     ]
    }
   ],
   "source": [
    "import pandas as pd\n",
    "v = pd.Series([\"John\", \"Sara\", \"Anthony\", \"Frank\", \"Sara\", \"Stephanie\", \"Anthony\", \"Anthony\"])\n",
    "vFactor = pd.Categorical(v)\n",
    "print(vFactor)\n"
   ]
  }
 ],
 "metadata": {
  "kernelspec": {
   "display_name": "Python 3",
   "language": "python",
   "name": "python3"
  },
  "language_info": {
   "codemirror_mode": {
    "name": "ipython",
    "version": 3
   },
   "file_extension": ".py",
   "mimetype": "text/x-python",
   "name": "python",
   "nbconvert_exporter": "python",
   "pygments_lexer": "ipython3",
   "version": "3.9.6"
  },
  "orig_nbformat": 4
 },
 "nbformat": 4,
 "nbformat_minor": 2
}
